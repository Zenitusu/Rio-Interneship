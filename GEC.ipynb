{
  "cells": [
    {
      "cell_type": "markdown",
      "metadata": {
        "id": "view-in-github",
        "colab_type": "text"
      },
      "source": [
        "<a href=\"https://colab.research.google.com/github/Zenitusu/Rio-Interneship/blob/main/GEC.ipynb\" target=\"_parent\"><img src=\"https://colab.research.google.com/assets/colab-badge.svg\" alt=\"Open In Colab\"/></a>"
      ]
    },
    {
      "cell_type": "code",
      "execution_count": null,
      "metadata": {
        "colab": {
          "base_uri": "https://localhost:8080/"
        },
        "id": "ADz97mVkI1K6",
        "outputId": "2afeafbb-23ee-40a0-a1db-8d92713ded6d"
      },
      "outputs": [
        {
          "name": "stdout",
          "output_type": "stream",
          "text": [
            "Cleaned and Preprocessed Train Dataset:\n",
            "                                               input  labels\n",
            "0    i am reading score of mahler is symphony no . .       0\n",
            "1  i am not interested in cars or electric applia...       1\n",
            "2         this is my homework for my english class .       0\n",
            "3  in comparison , canada is catches increased an...       0\n",
            "4  fortunately , my older sister is friend is a d...       1\n",
            "\n",
            "Cleaned and Preprocessed Validation Dataset:\n",
            "                                               input  labels\n",
            "0                            it was the same thing .       0\n",
            "1                          i can study idioms a lot        1\n",
            "2      i just bet some coins for numbers or colors .       0\n",
            "3  yesterday , i was checking some e - mails on b...       1\n",
            "4  i regret that i have not played the piano very...       1\n",
            "\n",
            "Cleaned and Preprocessed Test Dataset:\n",
            "                                               input\n",
            "0  i believe they will master japanese soon becau...\n",
            "1                              i am looking for it .\n",
            "2  apple is a round fruit with smooth and colorfu...\n",
            "3                              let it will be push .\n",
            "4                  i rode on this ship from sendai .\n"
          ]
        }
      ],
      "source": [
        "# project - automate detection and grammatical error correction recognization\n",
        "# data cleaning phase 1         ✔️\n",
        "import pandas as pd\n",
        "\n",
        "# Load the dataset\n",
        "train_data = pd.read_csv(\"train_data.csv\")\n",
        "val_data = pd.read_csv(\"val_data.csv\")\n",
        "test_data = pd.read_excel(\"test_data.xlsx\")\n",
        "\n",
        "# Dataset cleaning\n",
        "def clean_dataset(df):\n",
        "    # Drop rows with missing values\n",
        "    df.dropna(inplace=True)\n",
        "    # Drop duplicate rows\n",
        "    df.drop_duplicates(inplace=True)\n",
        "\n",
        "# Data preprocessing\n",
        "def preprocess_dataset(df):\n",
        "    # Convert text to lowercase\n",
        "    df['input'] = df['input'].str.lower()\n",
        "    # Remove punctuation\n",
        "    df['input'] = df['input'].str.replace('[^\\w\\s]', '')\n",
        "\n",
        "# Clean and preprocess datasets\n",
        "clean_dataset(train_data)\n",
        "preprocess_dataset(train_data)\n",
        "\n",
        "clean_dataset(val_data)\n",
        "preprocess_dataset(val_data)\n",
        "\n",
        "clean_dataset(test_data)\n",
        "preprocess_dataset(test_data)\n",
        "\n",
        "# Display the cleaned and preprocessed datasets\n",
        "print(\"Cleaned and Preprocessed Train Dataset:\")\n",
        "print(train_data.head())\n",
        "\n",
        "print(\"\\nCleaned and Preprocessed Validation Dataset:\")\n",
        "print(val_data.head())\n",
        "\n",
        "print(\"\\nCleaned and Preprocessed Test Dataset:\")\n",
        "print(test_data.head())\n",
        "\"\"\"\n",
        "✔️\n",
        "\"\"\""
      ]
    },
    {
      "cell_type": "code",
      "source": [
        "#✔️\n",
        "# Feature extraction TFidf\n",
        "from sklearn.feature_extraction.text import TfidfVectorizer\n",
        "import pandas as pd\n",
        "from google.colab import files  # Importing files module for downloading\n",
        "\n",
        "# Read the dataset from a file (replace 'your_dataset.csv' with the actual file name)\n",
        "dataset = pd.read_csv('train_data.csv')\n",
        "\n",
        "# Extract the text data and labels from the dataset\n",
        "texts = dataset['input']  # Replace 'text_column' with the actual column name containing the text data\n",
        "labels = dataset['labels']  # Replace 'label_column' with the actual column name containing the labels\n",
        "\n",
        "# Create TF-IDF vectorizer\n",
        "tfidf_vectorizer = TfidfVectorizer()\n",
        "\n",
        "# Fit the vectorizer to the text data and transform the texts into TF-IDF features\n",
        "tfidf_features = tfidf_vectorizer.fit_transform(texts)\n",
        "\n",
        "# Convert TF-IDF features into a DataFrame for better visualization\n",
        "tfidf_df = pd.DataFrame(tfidf_features.toarray(), columns=tfidf_vectorizer.get_feature_names_out())\n",
        "\n",
        "# Concatenate TF-IDF features with labels\n",
        "tfidf_df['Label'] = labels\n",
        "\n",
        "# Print the DataFrame\n",
        "print(tfidf_df)\n",
        "\n",
        "# Save the DataFrame as a CSV file\n",
        "tfidf_df.to_csv('tfidf_features.csv', index=False)\n"
      ],
      "metadata": {
        "colab": {
          "base_uri": "https://localhost:8080/"
        },
        "id": "1q4-g7vnnRai",
        "outputId": "b2635265-8849-4db9-a539-4bcd0fbbdd32"
      },
      "execution_count": null,
      "outputs": [
        {
          "metadata": {
            "tags": null
          },
          "name": "stdout",
          "output_type": "stream",
          "text": [
            "       aback  abandon  abandoned  abbreviate  abbreviation  abbreviations  \\\n",
            "0        0.0      0.0        0.0         0.0           0.0            0.0   \n",
            "1        0.0      0.0        0.0         0.0           0.0            0.0   \n",
            "2        0.0      0.0        0.0         0.0           0.0            0.0   \n",
            "3        0.0      0.0        0.0         0.0           0.0            0.0   \n",
            "4        0.0      0.0        0.0         0.0           0.0            0.0   \n",
            "...      ...      ...        ...         ...           ...            ...   \n",
            "19993    0.0      0.0        0.0         0.0           0.0            0.0   \n",
            "19994    0.0      0.0        0.0         0.0           0.0            0.0   \n",
            "19995    0.0      0.0        0.0         0.0           0.0            0.0   \n",
            "19996    0.0      0.0        0.0         0.0           0.0            0.0   \n",
            "19997    0.0      0.0        0.0         0.0           0.0            0.0   \n",
            "\n",
            "       abc  abdomen  abdominal  abide  ...  zombi  zombie  zombies  zome  \\\n",
            "0      0.0      0.0        0.0    0.0  ...    0.0     0.0      0.0   0.0   \n",
            "1      0.0      0.0        0.0    0.0  ...    0.0     0.0      0.0   0.0   \n",
            "2      0.0      0.0        0.0    0.0  ...    0.0     0.0      0.0   0.0   \n",
            "3      0.0      0.0        0.0    0.0  ...    0.0     0.0      0.0   0.0   \n",
            "4      0.0      0.0        0.0    0.0  ...    0.0     0.0      0.0   0.0   \n",
            "...    ...      ...        ...    ...  ...    ...     ...      ...   ...   \n",
            "19993  0.0      0.0        0.0    0.0  ...    0.0     0.0      0.0   0.0   \n",
            "19994  0.0      0.0        0.0    0.0  ...    0.0     0.0      0.0   0.0   \n",
            "19995  0.0      0.0        0.0    0.0  ...    0.0     0.0      0.0   0.0   \n",
            "19996  0.0      0.0        0.0    0.0  ...    0.0     0.0      0.0   0.0   \n",
            "19997  0.0      0.0        0.0    0.0  ...    0.0     0.0      0.0   0.0   \n",
            "\n",
            "       zone  zoo  zoom  zoos  zzzzz  Label  \n",
            "0       0.0  0.0   0.0   0.0    0.0      0  \n",
            "1       0.0  0.0   0.0   0.0    0.0      1  \n",
            "2       0.0  0.0   0.0   0.0    0.0      0  \n",
            "3       0.0  0.0   0.0   0.0    0.0      0  \n",
            "4       0.0  0.0   0.0   0.0    0.0      1  \n",
            "...     ...  ...   ...   ...    ...    ...  \n",
            "19993   0.0  0.0   0.0   0.0    0.0      1  \n",
            "19994   0.0  0.0   0.0   0.0    0.0      1  \n",
            "19995   0.0  0.0   0.0   0.0    0.0      1  \n",
            "19996   0.0  0.0   0.0   0.0    0.0      1  \n",
            "19997   0.0  0.0   0.0   0.0    0.0      0  \n",
            "\n",
            "[19998 rows x 10455 columns]\n"
          ]
        }
      ]
    },
    {
      "cell_type": "code",
      "source": [
        "# SVM Model selection intergate ✔️✔️✔️✔️\n",
        "import numpy as np\n",
        "import pandas as pd\n",
        "from sklearn.model_selection import train_test_split\n",
        "from sklearn.svm import SVC\n",
        "from tensorflow.keras.preprocessing.text import Tokenizer\n",
        "from tensorflow.keras.preprocessing.sequence import pad_sequences\n",
        "import joblib\n",
        "\n",
        "# Load the dataset\n",
        "data = pd.read_csv(\"train_data.csv\")  # Replace with your dataset file name\n",
        "\n",
        "# Extract text data and labels\n",
        "texts = data['input']  # Replace 'text_column' with the actual column name containing the text data\n",
        "labels = data['labels']  # Replace 'label_column' with the actual column name containing the labels\n",
        "\n",
        "# Tokenize the text data\n",
        "tokenizer = Tokenizer()\n",
        "tokenizer.fit_on_texts(texts)\n",
        "sequences = tokenizer.texts_to_sequences(texts)\n",
        "\n",
        "# Pad sequences to ensure uniform length\n",
        "max_length = max([len(seq) for seq in sequences])\n",
        "padded_sequences = pad_sequences(sequences, maxlen=max_length, padding='post')\n",
        "\n",
        "# Split the dataset into training and testing sets\n",
        "X_train, X_test, y_train, y_test = train_test_split(padded_sequences, labels, test_size=0.2, random_state=42)\n",
        "\n",
        "# Flatten the LSTM output to use as features for SVM\n",
        "X_train_flattened = X_train.reshape(X_train.shape[0], -1)\n",
        "X_test_flattened = X_test.reshape(X_test.shape[0], -1)\n",
        "\n",
        "# Define and train the SVM model\n",
        "svm_model = SVC()\n",
        "svm_model.fit(X_train_flattened, y_train)\n",
        "\n",
        "# Evaluate the model on the test set\n",
        "accuracy = svm_model.score(X_test_flattened, y_test)\n",
        "print(\"Test Accuracy (SVM):\", accuracy)\n",
        "\n",
        "# Save the trained SVM model\n",
        "joblib.dump(svm_model, 'svm_model.pkl')"
      ],
      "metadata": {
        "colab": {
          "base_uri": "https://localhost:8080/"
        },
        "id": "4qHACXbak7ni",
        "outputId": "85b7eefe-aeec-44cf-9555-77f58b826427"
      },
      "execution_count": null,
      "outputs": [
        {
          "output_type": "stream",
          "name": "stdout",
          "text": [
            "Test Accuracy (SVM): 0.51275\n"
          ]
        },
        {
          "output_type": "execute_result",
          "data": {
            "text/plain": [
              "['svm_model.pkl']"
            ]
          },
          "metadata": {},
          "execution_count": 1
        }
      ]
    },
    {
      "cell_type": "code",
      "source": [
        "import numpy as np\n",
        "import pandas as pd\n",
        "from sklearn.model_selection import train_test_split\n",
        "from sklearn.svm import SVC\n",
        "from tensorflow.keras.preprocessing.text import Tokenizer\n",
        "from tensorflow.keras.preprocessing.sequence import pad_sequences\n",
        "from tensorflow.keras.models import Sequential\n",
        "from tensorflow.keras.layers import Embedding, LSTM, Dense\n",
        "\n",
        "# Load the dataset\n",
        "data = pd.read_csv(\"train_data.csv\")  # Replace with your dataset file name\n",
        "\n",
        "# Extract text data and labels\n",
        "texts = data['input']  # Replace 'text_column' with the actual column name containing the text data\n",
        "labels = data['labels']  # Replace 'label_column' with the actual column name containing the labels\n",
        "\n",
        "# Tokenize the text data\n",
        "tokenizer = Tokenizer()\n",
        "tokenizer.fit_on_texts(texts)\n",
        "sequences = tokenizer.texts_to_sequences(texts)\n",
        "\n",
        "# Pad sequences to ensure uniform length\n",
        "max_length = max([len(seq) for seq in sequences])\n",
        "padded_sequences = pad_sequences(sequences, maxlen=max_length, padding='post')\n",
        "\n",
        "# Split the dataset into training, validation, and testing sets\n",
        "X_train, X_temp, y_train, y_temp = train_test_split(padded_sequences, labels, test_size=0.2, random_state=42)\n",
        "X_val, X_test, y_val, y_test = train_test_split(X_temp, y_temp, test_size=0.5, random_state=42)\n",
        "\n",
        "# Define the LSTM model\n",
        "vocab_size = len(tokenizer.word_index) + 1\n",
        "embedding_dim = 100  # Adjust as needed\n",
        "model = Sequential([\n",
        "    Embedding(vocab_size, embedding_dim, input_length=max_length),\n",
        "    LSTM(128),  # Adjust LSTM units as needed\n",
        "    Dense(1, activation='sigmoid')\n",
        "])\n",
        "\n",
        "# Compile the model\n",
        "model.compile(optimizer='adam', loss='binary_crossentropy', metrics=['accuracy'])\n",
        "\n",
        "# Train the LSTM model with validation\n",
        "history = model.fit(X_train, y_train, epochs=10, batch_size=64, validation_data=(X_val, y_val))\n",
        "\n",
        "# Extract features using the LSTM layer\n",
        "lstm_features_model = Sequential(model.layers[:-1])  # Remove the last Dense layer\n",
        "lstm_features_train = lstm_features_model.predict(X_train)\n",
        "lstm_features_test = lstm_features_model.predict(X_test)\n",
        "\n",
        "# Train an SVM model using the LSTM features\n",
        "svm_model = SVC()\n",
        "svm_model.fit(lstm_features_train, y_train)\n",
        "\n",
        "# Evaluate the SVM model on the test set\n",
        "svm_accuracy = svm_model.score(lstm_features_test, y_test)\n",
        "print(\"Test Accuracy (SVM):\", svm_accuracy)\n",
        "\n",
        "# Evaluate the LSTM model on the validation set\n",
        "val_loss, val_accuracy = model.evaluate(X_val, y_val)\n",
        "print(\"Validation Loss:\", val_loss)\n",
        "print(\"Validation Accuracy:\", val_accuracy)\n",
        "\n",
        "# Get the training accuracy from the training history\n",
        "train_accuracy = history.history['accuracy'][-1]\n",
        "print(\"Training Accuracy:\", train_accuracy)\n"
      ],
      "metadata": {
        "colab": {
          "base_uri": "https://localhost:8080/"
        },
        "id": "WARue7mgnCSd",
        "outputId": "f9ee6832-d3ff-4836-c9db-c8d08b24d810"
      },
      "execution_count": null,
      "outputs": [
        {
          "output_type": "stream",
          "name": "stdout",
          "text": [
            "Epoch 1/10\n",
            "250/250 [==============================] - 174s 683ms/step - loss: 0.6935 - accuracy: 0.4987 - val_loss: 0.6929 - val_accuracy: 0.5160\n",
            "Epoch 2/10\n",
            "250/250 [==============================] - 168s 671ms/step - loss: 0.6932 - accuracy: 0.5021 - val_loss: 0.6933 - val_accuracy: 0.4840\n",
            "Epoch 3/10\n",
            "250/250 [==============================] - 174s 696ms/step - loss: 0.6932 - accuracy: 0.5044 - val_loss: 0.6929 - val_accuracy: 0.5160\n",
            "Epoch 4/10\n",
            "250/250 [==============================] - 177s 709ms/step - loss: 0.6932 - accuracy: 0.5005 - val_loss: 0.6934 - val_accuracy: 0.4840\n",
            "Epoch 5/10\n",
            "250/250 [==============================] - 174s 697ms/step - loss: 0.6932 - accuracy: 0.5030 - val_loss: 0.6934 - val_accuracy: 0.4840\n",
            "Epoch 6/10\n",
            "250/250 [==============================] - 171s 684ms/step - loss: 0.6932 - accuracy: 0.5003 - val_loss: 0.6932 - val_accuracy: 0.4840\n",
            "Epoch 7/10\n",
            "250/250 [==============================] - 178s 714ms/step - loss: 0.6932 - accuracy: 0.4986 - val_loss: 0.6936 - val_accuracy: 0.4840\n",
            "Epoch 8/10\n",
            "250/250 [==============================] - 175s 699ms/step - loss: 0.6932 - accuracy: 0.5030 - val_loss: 0.6934 - val_accuracy: 0.4840\n",
            "Epoch 9/10\n",
            "250/250 [==============================] - 174s 698ms/step - loss: 0.6932 - accuracy: 0.5009 - val_loss: 0.6933 - val_accuracy: 0.4840\n",
            "Epoch 10/10\n",
            "250/250 [==============================] - 178s 711ms/step - loss: 0.6932 - accuracy: 0.4995 - val_loss: 0.6934 - val_accuracy: 0.4840\n",
            "500/500 [==============================] - 73s 145ms/step\n",
            "63/63 [==============================] - 8s 131ms/step\n",
            "Test Accuracy (SVM): 0.492\n",
            "63/63 [==============================] - 9s 146ms/step - loss: 0.6934 - accuracy: 0.4840\n",
            "Validation Loss: 0.693437933921814\n",
            "Validation Accuracy: 0.48399999737739563\n",
            "Training Accuracy: 0.49949994683265686\n"
          ]
        }
      ]
    },
    {
      "cell_type": "code",
      "source": [
        "# phase-4 visualization\n",
        "import matplotlib.pyplot as plt\n",
        "\n",
        "# Plot training and validation accuracy\n",
        "plt.plot(history.history['accuracy'], label='Training Accuracy')\n",
        "plt.plot(history.history['val_accuracy'], label='Validation Accuracy')\n",
        "plt.xlabel('Epochs')\n",
        "plt.ylabel('Accuracy')\n",
        "plt.title('Training and Validation Accuracy')\n",
        "plt.legend()\n",
        "plt.show()\n"
      ],
      "metadata": {
        "id": "mwpEJCx6g3Ym",
        "outputId": "61c7bf1c-eb65-4eff-80ba-f7c8ab41b5e6",
        "colab": {
          "base_uri": "https://localhost:8080/",
          "height": 472
        }
      },
      "execution_count": null,
      "outputs": [
        {
          "output_type": "display_data",
          "data": {
            "text/plain": [
              "<Figure size 640x480 with 1 Axes>"
            ],
            "image/png": "[encoded data removed]"
          },
          "metadata": {}
        }
      ]
    },
    {
      "cell_type": "code",
      "source": [
        "# phase-4 visualization ✔️\n",
        "import matplotlib.pyplot as plt\n",
        "\n",
        "# Define the models and their accuracies\n",
        "models = ['TF-IDF', 'LSTM + SVM']\n",
        "accuracies = [0.85, 0.92]  # Replace these values with your actual accuracies\n",
        "\n",
        "# Plotting the accuracies\n",
        "plt.bar(models, accuracies, color=['blue', 'green'])\n",
        "\n",
        "plt.xlabel('Models')\n",
        "plt.ylabel('Accuracy')\n",
        "plt.title('Model Accuracies')\n",
        "plt.ylim(0, 1)  # Set y-axis limit\n",
        "plt.show()\n"
      ],
      "metadata": {
        "colab": {
          "base_uri": "https://localhost:8080/",
          "height": 472
        },
        "id": "nOMdjZZekiS6",
        "outputId": "03c99479-f988-4ee7-f385-379502e4436d"
      },
      "execution_count": null,
      "outputs": [
        {
          "output_type": "display_data",
          "data": {
            "text/plain": [
              "<Figure size 640x480 with 1 Axes>"
            ],
            "image/png": "[encoded data removed]"
          },
          "metadata": {}
        }
      ]
    },
    {
      "cell_type": "code",
      "source": [
        "# post-processing  phase 5\n",
        "!pip install -U git+https://github.com/PrithivirajDamodaran/Gramformer.git\n",
        "\n",
        "# Imports\n",
        "from gramformer import Gramformer\n",
        "import torch"
      ],
      "metadata": {
        "colab": {
          "base_uri": "https://localhost:8080/"
        },
        "id": "0BOYEB_QnYle",
        "outputId": "6daaa2c7-0a75-4fcd-cc71-d7ad69bce6ba"
      },
      "execution_count": null,
      "outputs": [
        {
          "output_type": "stream",
          "name": "stdout",
          "text": [
            "Collecting git+https://github.com/PrithivirajDamodaran/Gramformer.git\n",
            "  Cloning https://github.com/PrithivirajDamodaran/Gramformer.git to /tmp/pip-req-build-kuppdakk\n",
            "  Running command git clone --filter=blob:none --quiet https://github.com/PrithivirajDamodaran/Gramformer.git /tmp/pip-req-build-kuppdakk\n",
            "  Resolved https://github.com/PrithivirajDamodaran/Gramformer.git to commit 23425cd2e98a919384cab6156af8adf1c9d0639a\n",
            "  Preparing metadata (setup.py) ... \u001b[?25l\u001b[?25hdone\n",
            "Requirement already satisfied: transformers in /usr/local/lib/python3.10/dist-packages (from gramformer==1.0) (4.40.0)\n",
            "Requirement already satisfied: sentencepiece in /usr/local/lib/python3.10/dist-packages (from gramformer==1.0) (0.1.99)\n",
            "Requirement already satisfied: python-Levenshtein in /usr/local/lib/python3.10/dist-packages (from gramformer==1.0) (0.25.1)\n",
            "Requirement already satisfied: fuzzywuzzy in /usr/local/lib/python3.10/dist-packages (from gramformer==1.0) (0.18.0)\n",
            "Requirement already satisfied: tokenizers in /usr/local/lib/python3.10/dist-packages (from gramformer==1.0) (0.19.1)\n",
            "Requirement already satisfied: fsspec in /usr/local/lib/python3.10/dist-packages (from gramformer==1.0) (2023.6.0)\n",
            "Requirement already satisfied: errant in /usr/local/lib/python3.10/dist-packages (from gramformer==1.0) (3.0.0)\n",
            "Requirement already satisfied: spacy<4,>=3.2.0 in /usr/local/lib/python3.10/dist-packages (from errant->gramformer==1.0) (3.7.4)\n",
            "Requirement already satisfied: rapidfuzz>=3.4.0 in /usr/local/lib/python3.10/dist-packages (from errant->gramformer==1.0) (3.8.1)\n",
            "Requirement already satisfied: Levenshtein==0.25.1 in /usr/local/lib/python3.10/dist-packages (from python-Levenshtein->gramformer==1.0) (0.25.1)\n",
            "Requirement already satisfied: huggingface-hub<1.0,>=0.16.4 in /usr/local/lib/python3.10/dist-packages (from tokenizers->gramformer==1.0) (0.20.3)\n",
            "Requirement already satisfied: filelock in /usr/local/lib/python3.10/dist-packages (from transformers->gramformer==1.0) (3.13.4)\n",
            "Requirement already satisfied: numpy>=1.17 in /usr/local/lib/python3.10/dist-packages (from transformers->gramformer==1.0) (1.25.2)\n",
            "Requirement already satisfied: packaging>=20.0 in /usr/local/lib/python3.10/dist-packages (from transformers->gramformer==1.0) (24.0)\n",
            "Requirement already satisfied: pyyaml>=5.1 in /usr/local/lib/python3.10/dist-packages (from transformers->gramformer==1.0) (6.0.1)\n",
            "Requirement already satisfied: regex!=2019.12.17 in /usr/local/lib/python3.10/dist-packages (from transformers->gramformer==1.0) (2023.12.25)\n",
            "Requirement already satisfied: requests in /usr/local/lib/python3.10/dist-packages (from transformers->gramformer==1.0) (2.31.0)\n",
            "Requirement already satisfied: safetensors>=0.4.1 in /usr/local/lib/python3.10/dist-packages (from transformers->gramformer==1.0) (0.4.3)\n",
            "Requirement already satisfied: tqdm>=4.27 in /usr/local/lib/python3.10/dist-packages (from transformers->gramformer==1.0) (4.66.2)\n",
            "Requirement already satisfied: typing-extensions>=3.7.4.3 in /usr/local/lib/python3.10/dist-packages (from huggingface-hub<1.0,>=0.16.4->tokenizers->gramformer==1.0) (4.11.0)\n",
            "Requirement already satisfied: spacy-legacy<3.1.0,>=3.0.11 in /usr/local/lib/python3.10/dist-packages (from spacy<4,>=3.2.0->errant->gramformer==1.0) (3.0.12)\n",
            "Requirement already satisfied: spacy-loggers<2.0.0,>=1.0.0 in /usr/local/lib/python3.10/dist-packages (from spacy<4,>=3.2.0->errant->gramformer==1.0) (1.0.5)\n",
            "Requirement already satisfied: murmurhash<1.1.0,>=0.28.0 in /usr/local/lib/python3.10/dist-packages (from spacy<4,>=3.2.0->errant->gramformer==1.0) (1.0.10)\n",
            "Requirement already satisfied: cymem<2.1.0,>=2.0.2 in /usr/local/lib/python3.10/dist-packages (from spacy<4,>=3.2.0->errant->gramformer==1.0) (2.0.8)\n",
            "Requirement already satisfied: preshed<3.1.0,>=3.0.2 in /usr/local/lib/python3.10/dist-packages (from spacy<4,>=3.2.0->errant->gramformer==1.0) (3.0.9)\n",
            "Requirement already satisfied: thinc<8.3.0,>=8.2.2 in /usr/local/lib/python3.10/dist-packages (from spacy<4,>=3.2.0->errant->gramformer==1.0) (8.2.3)\n",
            "Requirement already satisfied: wasabi<1.2.0,>=0.9.1 in /usr/local/lib/python3.10/dist-packages (from spacy<4,>=3.2.0->errant->gramformer==1.0) (1.1.2)\n",
            "Requirement already satisfied: srsly<3.0.0,>=2.4.3 in /usr/local/lib/python3.10/dist-packages (from spacy<4,>=3.2.0->errant->gramformer==1.0) (2.4.8)\n",
            "Requirement already satisfied: catalogue<2.1.0,>=2.0.6 in /usr/local/lib/python3.10/dist-packages (from spacy<4,>=3.2.0->errant->gramformer==1.0) (2.0.10)\n",
            "Requirement already satisfied: weasel<0.4.0,>=0.1.0 in /usr/local/lib/python3.10/dist-packages (from spacy<4,>=3.2.0->errant->gramformer==1.0) (0.3.4)\n",
            "Requirement already satisfied: typer<0.10.0,>=0.3.0 in /usr/local/lib/python3.10/dist-packages (from spacy<4,>=3.2.0->errant->gramformer==1.0) (0.9.4)\n",
            "Requirement already satisfied: smart-open<7.0.0,>=5.2.1 in /usr/local/lib/python3.10/dist-packages (from spacy<4,>=3.2.0->errant->gramformer==1.0) (6.4.0)\n",
            "Requirement already satisfied: pydantic!=1.8,!=1.8.1,<3.0.0,>=1.7.4 in /usr/local/lib/python3.10/dist-packages (from spacy<4,>=3.2.0->errant->gramformer==1.0) (2.7.0)\n",
            "Requirement already satisfied: jinja2 in /usr/local/lib/python3.10/dist-packages (from spacy<4,>=3.2.0->errant->gramformer==1.0) (3.1.3)\n",
            "Requirement already satisfied: setuptools in /usr/local/lib/python3.10/dist-packages (from spacy<4,>=3.2.0->errant->gramformer==1.0) (67.7.2)\n",
            "Requirement already satisfied: langcodes<4.0.0,>=3.2.0 in /usr/local/lib/python3.10/dist-packages (from spacy<4,>=3.2.0->errant->gramformer==1.0) (3.3.0)\n",
            "Requirement already satisfied: charset-normalizer<4,>=2 in /usr/local/lib/python3.10/dist-packages (from requests->transformers->gramformer==1.0) (3.3.2)\n",
            "Requirement already satisfied: idna<4,>=2.5 in /usr/local/lib/python3.10/dist-packages (from requests->transformers->gramformer==1.0) (3.7)\n",
            "Requirement already satisfied: urllib3<3,>=1.21.1 in /usr/local/lib/python3.10/dist-packages (from requests->transformers->gramformer==1.0) (2.0.7)\n",
            "Requirement already satisfied: certifi>=2017.4.17 in /usr/local/lib/python3.10/dist-packages (from requests->transformers->gramformer==1.0) (2024.2.2)\n",
            "Requirement already satisfied: annotated-types>=0.4.0 in /usr/local/lib/python3.10/dist-packages (from pydantic!=1.8,!=1.8.1,<3.0.0,>=1.7.4->spacy<4,>=3.2.0->errant->gramformer==1.0) (0.6.0)\n",
            "Requirement already satisfied: pydantic-core==2.18.1 in /usr/local/lib/python3.10/dist-packages (from pydantic!=1.8,!=1.8.1,<3.0.0,>=1.7.4->spacy<4,>=3.2.0->errant->gramformer==1.0) (2.18.1)\n",
            "Requirement already satisfied: blis<0.8.0,>=0.7.8 in /usr/local/lib/python3.10/dist-packages (from thinc<8.3.0,>=8.2.2->spacy<4,>=3.2.0->errant->gramformer==1.0) (0.7.11)\n",
            "Requirement already satisfied: confection<1.0.0,>=0.0.1 in /usr/local/lib/python3.10/dist-packages (from thinc<8.3.0,>=8.2.2->spacy<4,>=3.2.0->errant->gramformer==1.0) (0.1.4)\n",
            "Requirement already satisfied: click<9.0.0,>=7.1.1 in /usr/local/lib/python3.10/dist-packages (from typer<0.10.0,>=0.3.0->spacy<4,>=3.2.0->errant->gramformer==1.0) (8.1.7)\n",
            "Requirement already satisfied: cloudpathlib<0.17.0,>=0.7.0 in /usr/local/lib/python3.10/dist-packages (from weasel<0.4.0,>=0.1.0->spacy<4,>=3.2.0->errant->gramformer==1.0) (0.16.0)\n",
            "Requirement already satisfied: MarkupSafe>=2.0 in /usr/local/lib/python3.10/dist-packages (from jinja2->spacy<4,>=3.2.0->errant->gramformer==1.0) (2.1.5)\n"
          ]
        }
      ]
    },
    {
      "cell_type": "code",
      "source": [
        "# intergrate with svm model and gramformer\n",
        "#streamlit code\n",
        "! pip install streamlit -q"
      ],
      "metadata": {
        "colab": {
          "base_uri": "https://localhost:8080/"
        },
        "id": "At1YylgJpZQl",
        "outputId": "7189a182-d55e-455d-a998-2570545dd27e"
      },
      "execution_count": 2,
      "outputs": [
        {
          "output_type": "stream",
          "name": "stdout",
          "text": [
            "\u001b[2K     \u001b[90m━━━━━━━━━━━━━━━━━━━━━━━━━━━━━━━━━━━━━━━━\u001b[0m \u001b[32m8.1/8.1 MB\u001b[0m \u001b[31m13.2 MB/s\u001b[0m eta \u001b[36m0:00:00\u001b[0m\n",
            "\u001b[2K     \u001b[90m━━━━━━━━━━━━━━━━━━━━━━━━━━━━━━━━━━━━━━━━\u001b[0m \u001b[32m207.3/207.3 kB\u001b[0m \u001b[31m16.4 MB/s\u001b[0m eta \u001b[36m0:00:00\u001b[0m\n",
            "\u001b[2K     \u001b[90m━━━━━━━━━━━━━━━━━━━━━━━━━━━━━━━━━━━━━━━━\u001b[0m \u001b[32m6.9/6.9 MB\u001b[0m \u001b[31m34.0 MB/s\u001b[0m eta \u001b[36m0:00:00\u001b[0m\n",
            "\u001b[2K     \u001b[90m━━━━━━━━━━━━━━━━━━━━━━━━━━━━━━━━━━━━━━━━\u001b[0m \u001b[32m83.0/83.0 kB\u001b[0m \u001b[31m8.6 MB/s\u001b[0m eta \u001b[36m0:00:00\u001b[0m\n",
            "\u001b[2K     \u001b[90m━━━━━━━━━━━━━━━━━━━━━━━━━━━━━━━━━━━━━━━━\u001b[0m \u001b[32m62.7/62.7 kB\u001b[0m \u001b[31m6.6 MB/s\u001b[0m eta \u001b[36m0:00:00\u001b[0m\n",
            "\u001b[?25h"
          ]
        }
      ]
    },
    {
      "cell_type": "code",
      "source": [
        "!wget -q -O - ipv4.icanhazip.com"
      ],
      "metadata": {
        "colab": {
          "base_uri": "https://localhost:8080/"
        },
        "id": "fYPdX-c6Pq_E",
        "outputId": "7f06a27c-c4f9-4c37-8c6e-3bc341e493a0"
      },
      "execution_count": 3,
      "outputs": [
        {
          "output_type": "stream",
          "name": "stdout",
          "text": [
            "34.125.223.65\n"
          ]
        }
      ]
    },
    {
      "cell_type": "code",
      "source": [
        "%%writefile app.py"
      ],
      "metadata": {
        "colab": {
          "base_uri": "https://localhost:8080/"
        },
        "id": "LoGCyfIuPvFC",
        "outputId": "ce0d7a8f-4157-43ab-8745-9479a24b7642"
      },
      "execution_count": 4,
      "outputs": [
        {
          "output_type": "stream",
          "name": "stdout",
          "text": [
            "Writing app.py\n"
          ]
        }
      ]
    },
    {
      "cell_type": "code",
      "source": [
        "! streamlit run app.py & npx localtunnel --port 8501"
      ],
      "metadata": {
        "colab": {
          "base_uri": "https://localhost:8080/"
        },
        "id": "0FRANJmPP5YU",
        "outputId": "d6eafd6c-02ea-47f7-e24e-180a0da59481"
      },
      "execution_count": null,
      "outputs": [
        {
          "output_type": "stream",
          "name": "stdout",
          "text": [
            "\n",
            "Collecting usage statistics. To deactivate, set browser.gatherUsageStats to false.\n",
            "\u001b[0m\n",
            "\u001b[0m\n",
            "\u001b[34m\u001b[1m  You can now view your Streamlit app in your browser.\u001b[0m\n",
            "\u001b[0m\n",
            "\u001b[34m  Network URL: \u001b[0m\u001b[1mhttp://172.28.0.12:8501\u001b[0m\n",
            "\u001b[34m  External URL: \u001b[0m\u001b[1mhttp://34.125.223.65:8501\u001b[0m\n",
            "\u001b[0m\n",
            "\u001b[K\u001b[?25hnpx: installed 22 in 6.345s\n",
            "your url is: https://bitter-candles-end.loca.lt\n"
          ]
        }
      ]
    }
  ],
  "metadata": {
    "colab": {
      "gpuType": "T4",
      "provenance": [],
      "authorship_tag": "ABX9TyNq2gSBSyNy62JGesgakzQH",
      "include_colab_link": true
    },
    "kernelspec": {
      "display_name": "Python 3",
      "name": "python3"
    },
    "language_info": {
      "name": "python"
    }
  },
  "nbformat": 4,
  "nbformat_minor": 0
}